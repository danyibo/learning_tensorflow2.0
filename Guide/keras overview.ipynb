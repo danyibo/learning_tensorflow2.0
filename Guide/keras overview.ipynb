{
 "cells": [
  {
   "cell_type": "code",
   "execution_count": 2,
   "metadata": {},
   "outputs": [],
   "source": [
    "from tensorflow import keras\n",
    "import tensorflow as tf\n",
    "from tensorflow.keras import layers"
   ]
  },
  {
   "cell_type": "code",
   "execution_count": 3,
   "metadata": {},
   "outputs": [],
   "source": [
    "model = tf.keras.Sequential()\n",
    "model.add(layers.Dense(64, activation=\"relu\"))\n",
    "model.add(layers.Dense(64, activation=\"relu\"))\n",
    "model.add(layers.Dense(10, activation=\"softmax\"))"
   ]
  },
  {
   "cell_type": "code",
   "execution_count": 12,
   "metadata": {},
   "outputs": [],
   "source": [
    "model = tf.keras.Sequential([\n",
    "    layers.Dense(64, activation=\"relu\", input_shape=(32, )),\n",
    "    layers.Dense(64, activation=\"relu\"),\n",
    "    layers.Dense(10, activation=\"softmax\")\n",
    "])\n",
    "\n",
    "model.compile(optimizer=tf.keras.optimizers.Adam(0.001),\n",
    "             loss=\"categorical_crossentropy\",\n",
    "             metrics=[\"accuracy\"])"
   ]
  },
  {
   "cell_type": "code",
   "execution_count": 16,
   "metadata": {},
   "outputs": [
    {
     "name": "stdout",
     "output_type": "stream",
     "text": [
      "Train on 1000 samples\n",
      "Epoch 1/10\n",
      "1000/1000 [==============================] - 1s 563us/sample - loss: 12.5122 - accuracy: 0.1110\n",
      "Epoch 2/10\n",
      "1000/1000 [==============================] - 0s 45us/sample - loss: 23.1526 - accuracy: 0.1110\n",
      "Epoch 3/10\n",
      "1000/1000 [==============================] - 0s 45us/sample - loss: 52.2367 - accuracy: 0.1050\n",
      "Epoch 4/10\n",
      "1000/1000 [==============================] - 0s 44us/sample - loss: 106.5122 - accuracy: 0.0960\n",
      "Epoch 5/10\n",
      "1000/1000 [==============================] - 0s 47us/sample - loss: 191.1093 - accuracy: 0.1100\n",
      "Epoch 6/10\n",
      "1000/1000 [==============================] - 0s 47us/sample - loss: 299.8251 - accuracy: 0.1020\n",
      "Epoch 7/10\n",
      "1000/1000 [==============================] - 0s 48us/sample - loss: 431.6379 - accuracy: 0.1020\n",
      "Epoch 8/10\n",
      "1000/1000 [==============================] - 0s 44us/sample - loss: 566.3286 - accuracy: 0.0910\n",
      "Epoch 9/10\n",
      "1000/1000 [==============================] - 0s 46us/sample - loss: 687.3890 - accuracy: 0.0910\n",
      "Epoch 10/10\n",
      "1000/1000 [==============================] - 0s 48us/sample - loss: 780.2727 - accuracy: 0.1100\n"
     ]
    },
    {
     "data": {
      "text/plain": [
       "<tensorflow.python.keras.callbacks.History at 0x20a94a1c048>"
      ]
     },
     "execution_count": 16,
     "metadata": {},
     "output_type": "execute_result"
    }
   ],
   "source": [
    "import numpy as np\n",
    "\n",
    "data = np.random.random((1000, 32))\n",
    "labels = np.random.random((1000, 10))\n",
    "\n",
    "model.fit(data, labels, epochs=10, batch_size=32)"
   ]
  },
  {
   "cell_type": "code",
   "execution_count": 18,
   "metadata": {},
   "outputs": [
    {
     "name": "stdout",
     "output_type": "stream",
     "text": [
      "Train on 1000 samples, validate on 100 samples\n",
      "Epoch 1/10\n",
      "1000/1000 [==============================] - 0s 152us/sample - loss: 804.2164 - accuracy: 0.0940 - val_loss: 820.5172 - val_accuracy: 0.0600\n",
      "Epoch 2/10\n",
      "1000/1000 [==============================] - 0s 59us/sample - loss: 770.2503 - accuracy: 0.0870 - val_loss: 736.4493 - val_accuracy: 0.1200\n",
      "Epoch 3/10\n",
      "1000/1000 [==============================] - 0s 53us/sample - loss: 615.7025 - accuracy: 0.0910 - val_loss: 548.3230 - val_accuracy: 0.1000\n",
      "Epoch 4/10\n",
      "1000/1000 [==============================] - 0s 53us/sample - loss: 472.7859 - accuracy: 0.0920 - val_loss: 403.1612 - val_accuracy: 0.1000\n",
      "Epoch 5/10\n",
      "1000/1000 [==============================] - 0s 63us/sample - loss: 297.0028 - accuracy: 0.1040 - val_loss: 170.8240 - val_accuracy: 0.1100\n",
      "Epoch 6/10\n",
      "1000/1000 [==============================] - 0s 61us/sample - loss: 95.1281 - accuracy: 0.0870 - val_loss: 54.7810 - val_accuracy: 0.1000\n",
      "Epoch 7/10\n",
      "1000/1000 [==============================] - 0s 62us/sample - loss: 80.2855 - accuracy: 0.1140 - val_loss: 83.7339 - val_accuracy: 0.1000\n",
      "Epoch 8/10\n",
      "1000/1000 [==============================] - 0s 60us/sample - loss: 72.2102 - accuracy: 0.0900 - val_loss: 89.5681 - val_accuracy: 0.0400\n",
      "Epoch 9/10\n",
      "1000/1000 [==============================] - 0s 56us/sample - loss: 97.0698 - accuracy: 0.0980 - val_loss: 130.7751 - val_accuracy: 0.1000\n",
      "Epoch 10/10\n",
      "1000/1000 [==============================] - 0s 59us/sample - loss: 156.5522 - accuracy: 0.0930 - val_loss: 144.1533 - val_accuracy: 0.1300\n"
     ]
    },
    {
     "data": {
      "text/plain": [
       "<tensorflow.python.keras.callbacks.History at 0x20a94ddedd8>"
      ]
     },
     "execution_count": 18,
     "metadata": {},
     "output_type": "execute_result"
    }
   ],
   "source": [
    "val_data = np.random.random((100, 32))\n",
    "val_labels = np.random.random((100, 10))\n",
    "\n",
    "model.fit(data, labels, epochs=10, batch_size=32, validation_data=(val_data, val_labels))"
   ]
  },
  {
   "cell_type": "code",
   "execution_count": 19,
   "metadata": {},
   "outputs": [
    {
     "name": "stdout",
     "output_type": "stream",
     "text": [
      "Epoch 1/10\n",
      "32/32 [==============================] - 0s 6ms/step - loss: 149.1240 - accuracy: 0.1070\n",
      "Epoch 2/10\n",
      "32/32 [==============================] - 0s 3ms/step - loss: 146.0499 - accuracy: 0.0930\n",
      "Epoch 3/10\n",
      "32/32 [==============================] - 0s 3ms/step - loss: 201.8916 - accuracy: 0.0960\n",
      "Epoch 4/10\n",
      "32/32 [==============================] - 0s 3ms/step - loss: 205.8007 - accuracy: 0.1140\n",
      "Epoch 5/10\n",
      "32/32 [==============================] - 0s 3ms/step - loss: 210.1200 - accuracy: 0.1010\n",
      "Epoch 6/10\n",
      "32/32 [==============================] - 0s 3ms/step - loss: 206.1605 - accuracy: 0.1330\n",
      "Epoch 7/10\n",
      "32/32 [==============================] - 0s 3ms/step - loss: 266.0281 - accuracy: 0.0970\n",
      "Epoch 8/10\n",
      "32/32 [==============================] - 0s 3ms/step - loss: 263.1237 - accuracy: 0.0950\n",
      "Epoch 9/10\n",
      "32/32 [==============================] - 0s 3ms/step - loss: 337.7204 - accuracy: 0.0820\n",
      "Epoch 10/10\n",
      "32/32 [==============================] - 0s 3ms/step - loss: 282.8884 - accuracy: 0.0820\n"
     ]
    },
    {
     "data": {
      "text/plain": [
       "<tensorflow.python.keras.callbacks.History at 0x20a968a49e8>"
      ]
     },
     "execution_count": 19,
     "metadata": {},
     "output_type": "execute_result"
    }
   ],
   "source": [
    "dataset = tf.data.Dataset.from_tensor_slices((data, labels))\n",
    "dataset = dataset.batch(32)\n",
    "model.fit(dataset, epochs=10)"
   ]
  },
  {
   "cell_type": "code",
   "execution_count": 24,
   "metadata": {},
   "outputs": [],
   "source": [
    "data = np.random.random((1000, 32))\n",
    "labels = np.random.random((1000, 10))\n",
    "# model.evaluate(data, labels, batch_size=32)"
   ]
  },
  {
   "cell_type": "code",
   "execution_count": 23,
   "metadata": {},
   "outputs": [
    {
     "name": "stdout",
     "output_type": "stream",
     "text": [
      "32/32 [==============================] - 0s 1ms/step - loss: 196.0307 - accuracy: 0.1120\n"
     ]
    },
    {
     "data": {
      "text/plain": [
       "[196.0307354927063, 0.112]"
      ]
     },
     "execution_count": 23,
     "metadata": {},
     "output_type": "execute_result"
    }
   ],
   "source": [
    "dataset = tf.data.Dataset.from_tensor_slices((data, labels))\n",
    "dataset = dataset.batch(32)\n",
    "\n",
    "model.evaluate(dataset)"
   ]
  },
  {
   "cell_type": "code",
   "execution_count": 25,
   "metadata": {},
   "outputs": [],
   "source": [
    "class MyModel(tf.keras.Model):\n",
    "    \n",
    "    def __init__(self, num_calsses=10):\n",
    "        super(MyModel, self).__init__(name=\"my_model\")\n",
    "        self.dense_1 = layers.Dense(32, activation='relu')\n",
    "        self.dense_2 = layers.Dense(num_calsses, activation=\"sigmoid\")\n",
    "    \n",
    "    def call(self, inputs):\n",
    "        x = self.dense_1(inputs)\n",
    "        return self.dense_2(x)"
   ]
  },
  {
   "cell_type": "code",
   "execution_count": null,
   "metadata": {},
   "outputs": [],
   "source": []
  },
  {
   "cell_type": "code",
   "execution_count": null,
   "metadata": {},
   "outputs": [],
   "source": []
  }
 ],
 "metadata": {
  "kernelspec": {
   "display_name": "Python 3",
   "language": "python",
   "name": "python3"
  },
  "language_info": {
   "codemirror_mode": {
    "name": "ipython",
    "version": 3
   },
   "file_extension": ".py",
   "mimetype": "text/x-python",
   "name": "python",
   "nbconvert_exporter": "python",
   "pygments_lexer": "ipython3",
   "version": "3.6.4"
  }
 },
 "nbformat": 4,
 "nbformat_minor": 2
}
