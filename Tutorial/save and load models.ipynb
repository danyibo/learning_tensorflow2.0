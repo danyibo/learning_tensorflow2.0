{
 "cells": [
  {
   "cell_type": "code",
   "execution_count": 2,
   "metadata": {},
   "outputs": [],
   "source": [
    "import os\n",
    "import tensorflow as tf\n",
    "from tensorflow import keras"
   ]
  },
  {
   "cell_type": "code",
   "execution_count": 3,
   "metadata": {},
   "outputs": [],
   "source": [
    "(train_images, train_labels), (test_images, test_labels) = tf.keras.datasets.mnist.load_data()"
   ]
  },
  {
   "cell_type": "code",
   "execution_count": 7,
   "metadata": {},
   "outputs": [],
   "source": [
    "train_labels = train_labels[:1000]\n",
    "test_labels = test_labels[:1000]\n",
    "\n",
    "train_images = train_images[:1000].reshape(-1, 28 * 28) / 255.0\n",
    "test_images = test_images[:1000].reshape(-1, 28 * 28) / 255.0"
   ]
  },
  {
   "cell_type": "code",
   "execution_count": 19,
   "metadata": {},
   "outputs": [],
   "source": [
    "def create_model():\n",
    "    model = tf.keras.models.Sequential([\n",
    "        keras.layers.Dense(512, activation=\"relu\", input_shape=(784,)),\n",
    "        keras.layers.Dropout(0.2),\n",
    "        keras.layers.Dense(10, activation=\"softmax\")\n",
    "    ])\n",
    "    \n",
    "    model.compile(optimizer=\"adam\",\n",
    "                 loss=\"sparse_categorical_crossentropy\",\n",
    "                 metrics=[\"accuracy\"])\n",
    "    return model"
   ]
  },
  {
   "cell_type": "code",
   "execution_count": 20,
   "metadata": {},
   "outputs": [],
   "source": [
    "model = create_model()"
   ]
  },
  {
   "cell_type": "code",
   "execution_count": 21,
   "metadata": {},
   "outputs": [
    {
     "name": "stdout",
     "output_type": "stream",
     "text": [
      "Model: \"sequential_1\"\n",
      "_________________________________________________________________\n",
      "Layer (type)                 Output Shape              Param #   \n",
      "=================================================================\n",
      "dense_2 (Dense)              (None, 512)               401920    \n",
      "_________________________________________________________________\n",
      "dropout_1 (Dropout)          (None, 512)               0         \n",
      "_________________________________________________________________\n",
      "dense_3 (Dense)              (None, 10)                5130      \n",
      "=================================================================\n",
      "Total params: 407,050\n",
      "Trainable params: 407,050\n",
      "Non-trainable params: 0\n",
      "_________________________________________________________________\n"
     ]
    }
   ],
   "source": [
    "model.summary()"
   ]
  },
  {
   "cell_type": "code",
   "execution_count": 22,
   "metadata": {},
   "outputs": [],
   "source": [
    "#  creat a tf.keras.callbacks.ModelCheckpoin callback that saves weights only during training"
   ]
  },
  {
   "cell_type": "code",
   "execution_count": 23,
   "metadata": {},
   "outputs": [
    {
     "name": "stdout",
     "output_type": "stream",
     "text": [
      "Train on 1000 samples, validate on 1000 samples\n",
      "Epoch 1/10\n",
      " 960/1000 [===========================>..] - ETA: 0s - loss: 2.3024 - accuracy: 0.1094\n",
      "Epoch 00001: saving model to train_1/cp/ckpt\n",
      "1000/1000 [==============================] - 1s 950us/sample - loss: 2.3023 - accuracy: 0.1120 - val_loss: 2.1920 - val_accuracy: 0.2080\n",
      "Epoch 2/10\n",
      " 928/1000 [==========================>...] - ETA: 0s - loss: 2.3003 - accuracy: 0.1088\n",
      "Epoch 00002: saving model to train_1/cp/ckpt\n",
      "1000/1000 [==============================] - 0s 240us/sample - loss: 2.3007 - accuracy: 0.1070 - val_loss: 2.0238 - val_accuracy: 0.3250\n",
      "Epoch 3/10\n",
      " 832/1000 [=======================>......] - ETA: 0s - loss: 2.2985 - accuracy: 0.1154\n",
      "Epoch 00003: saving model to train_1/cp/ckpt\n",
      "1000/1000 [==============================] - 0s 259us/sample - loss: 2.2997 - accuracy: 0.1110 - val_loss: 1.8922 - val_accuracy: 0.4160\n",
      "Epoch 4/10\n",
      " 864/1000 [========================>.....] - ETA: 0s - loss: 2.2986 - accuracy: 0.1157\n",
      "Epoch 00004: saving model to train_1/cp/ckpt\n",
      "1000/1000 [==============================] - 0s 264us/sample - loss: 2.2991 - accuracy: 0.1150 - val_loss: 1.7964 - val_accuracy: 0.4780\n",
      "Epoch 5/10\n",
      " 800/1000 [=======================>......] - ETA: 0s - loss: 2.2997 - accuracy: 0.1037\n",
      "Epoch 00005: saving model to train_1/cp/ckpt\n",
      "1000/1000 [==============================] - 0s 247us/sample - loss: 2.2995 - accuracy: 0.1080 - val_loss: 1.7438 - val_accuracy: 0.5100\n",
      "Epoch 6/10\n",
      " 800/1000 [=======================>......] - ETA: 0s - loss: 2.2999 - accuracy: 0.1138\n",
      "Epoch 00006: saving model to train_1/cp/ckpt\n",
      "1000/1000 [==============================] - 0s 251us/sample - loss: 2.2987 - accuracy: 0.1200 - val_loss: 1.6843 - val_accuracy: 0.5270\n",
      "Epoch 7/10\n",
      " 800/1000 [=======================>......] - ETA: 0s - loss: 2.3024 - accuracy: 0.0975\n",
      "Epoch 00007: saving model to train_1/cp/ckpt\n",
      "1000/1000 [==============================] - 0s 304us/sample - loss: 2.2990 - accuracy: 0.1020 - val_loss: 1.6511 - val_accuracy: 0.5420\n",
      "Epoch 8/10\n",
      " 768/1000 [======================>.......] - ETA: 0s - loss: 2.2990 - accuracy: 0.1133\n",
      "Epoch 00008: saving model to train_1/cp/ckpt\n",
      "1000/1000 [==============================] - 0s 255us/sample - loss: 2.2989 - accuracy: 0.1160 - val_loss: 1.6259 - val_accuracy: 0.5400\n",
      "Epoch 9/10\n",
      " 704/1000 [====================>.........] - ETA: 0s - loss: 2.2951 - accuracy: 0.1278\n",
      "Epoch 00009: saving model to train_1/cp/ckpt\n",
      "1000/1000 [==============================] - 0s 278us/sample - loss: 2.2991 - accuracy: 0.1180 - val_loss: 1.6091 - val_accuracy: 0.5390\n",
      "Epoch 10/10\n",
      " 928/1000 [==========================>...] - ETA: 0s - loss: 2.2997 - accuracy: 0.1196\n",
      "Epoch 00010: saving model to train_1/cp/ckpt\n",
      "1000/1000 [==============================] - 0s 302us/sample - loss: 2.2991 - accuracy: 0.1180 - val_loss: 1.6097 - val_accuracy: 0.5390\n"
     ]
    },
    {
     "data": {
      "text/plain": [
       "<tensorflow.python.keras.callbacks.History at 0x1bd38fb41d0>"
      ]
     },
     "execution_count": 23,
     "metadata": {},
     "output_type": "execute_result"
    }
   ],
   "source": [
    "checkpoint_path = \"train_1/cp/ckpt\"\n",
    "checkpoint_dir = os.path.dirname(checkpoint_path)\n",
    "\n",
    "# create a callback that saves the model's weights\n",
    "cp_callback = tf.keras.callbacks.ModelCheckpoint(filepath=checkpoint_path,\n",
    "                                                save_weights_only=True,\n",
    "                                                verbose=1)\n",
    "# Train the model with the new callback\n",
    "model.fit(train_images,\n",
    "         train_labels,\n",
    "         epochs=10,\n",
    "         validation_data=(test_images, test_labels),\n",
    "         callbacks=[cp_callback])"
   ]
  },
  {
   "cell_type": "code",
   "execution_count": 24,
   "metadata": {},
   "outputs": [
    {
     "name": "stdout",
     "output_type": "stream",
     "text": [
      "1000/1 - 0s - loss: 2.3753 - accuracy: 0.1090\n",
      "Untrained model, accuracy: 10.90%\n"
     ]
    }
   ],
   "source": [
    "model = create_model()\n",
    "\n",
    "loss, acc = model.evaluate(test_images, test_labels, verbose=2)\n",
    "print(\"Untrained model, accuracy: {:5.2f}%\".format(100*acc))"
   ]
  },
  {
   "cell_type": "code",
   "execution_count": 26,
   "metadata": {},
   "outputs": [
    {
     "name": "stdout",
     "output_type": "stream",
     "text": [
      "1000/1 - 0s - loss: 1.6203 - accuracy: 0.5390\n",
      "Restored model, accuracy: 53.90%\n"
     ]
    }
   ],
   "source": [
    "# load the weights \n",
    "model.load_weights(checkpoint_path)\n",
    "\n",
    "# Re-evaluate the model\n",
    "loss, acc = model.evaluate(test_images, test_labels, verbose=2)\n",
    "print(\"Restored model, accuracy: {:5.2f}%\".format(100*acc))"
   ]
  },
  {
   "cell_type": "code",
   "execution_count": null,
   "metadata": {},
   "outputs": [],
   "source": []
  }
 ],
 "metadata": {
  "kernelspec": {
   "display_name": "Python 3",
   "language": "python",
   "name": "python3"
  },
  "language_info": {
   "codemirror_mode": {
    "name": "ipython",
    "version": 3
   },
   "file_extension": ".py",
   "mimetype": "text/x-python",
   "name": "python",
   "nbconvert_exporter": "python",
   "pygments_lexer": "ipython3",
   "version": "3.6.4"
  }
 },
 "nbformat": 4,
 "nbformat_minor": 2
}
