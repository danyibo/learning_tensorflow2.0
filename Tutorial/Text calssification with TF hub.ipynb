{
 "cells": [
  {
   "cell_type": "code",
   "execution_count": 2,
   "metadata": {},
   "outputs": [],
   "source": [
    "import numpy as np\n",
    "import tensorflow as tf\n",
    "import tensorflow_hub as hub\n",
    "import tensorflow_datasets as tfds"
   ]
  },
  {
   "cell_type": "code",
   "execution_count": 4,
   "metadata": {},
   "outputs": [],
   "source": [
    "# split the training set into 60% and 40%, so we'll end up with 15000 examples for trainig, 10000 examples\n",
    "# for validation and 25000 examples for test\n",
    "\n",
    "train_validation_split = tfds.Split.TRAIN.subsplit([6, 4])\n",
    "\n",
    "(train_data, validation_data), test_data = tfds.load(\n",
    "                name=\"imdb_reviews\",\n",
    "                split=(train_validation_split, tfds.Split.TEST),\n",
    "                as_supervised=True)"
   ]
  },
  {
   "cell_type": "code",
   "execution_count": 5,
   "metadata": {},
   "outputs": [
    {
     "data": {
      "text/plain": [
       "<tf.Tensor: id=439, shape=(10,), dtype=string, numpy=\n",
       "array([b\"As a lifelong fan of Dickens, I have invariably been disappointed by adaptations of his novels.<br /><br />Although his works presented an extremely accurate re-telling of human life at every level in Victorian Britain, throughout them all was a pervasive thread of humour that could be both playful or sarcastic as the narrative dictated. In a way, he was a literary caricaturist and cartoonist. He could be serious and hilarious in the same sentence. He pricked pride, lampooned arrogance, celebrated modesty, and empathised with loneliness and poverty. It may be a clich\\xc3\\xa9, but he was a people's writer.<br /><br />And it is the comedy that is so often missing from his interpretations. At the time of writing, Oliver Twist is being dramatised in serial form on BBC television. All of the misery and cruelty is their, but non of the humour, irony, and savage lampoonery. The result is just a dark, dismal experience: the story penned by a journalist rather than a novelist. It's not really Dickens at all.<br /><br />'Oliver!', on the other hand, is much closer to the mark. The mockery of officialdom is perfectly interpreted, from the blustering beadle to the drunken magistrate. The classic stand-off between the beadle and Mr Brownlow, in which the law is described as 'a ass, a idiot' couldn't have been better done. Harry Secombe is an ideal choice.<br /><br />But the blinding cruelty is also there, the callous indifference of the state, the cold, hunger, poverty and loneliness are all presented just as surely as The Master would have wished.<br /><br />And then there is crime. Ron Moody is a treasure as the sleazy Jewish fence, whilst Oliver Reid has Bill Sykes to perfection.<br /><br />Perhaps not surprisingly, Lionel Bart - himself a Jew from London's east-end - takes a liberty with Fagin by re-interpreting him as a much more benign fellow than was Dicken's original. In the novel, he was utterly ruthless, sending some of his own boys to the gallows in order to protect himself (though he was also caught and hanged). Whereas in the movie, he is presented as something of a wayward father-figure, a sort of charitable thief rather than a corrupter of children, the latter being a long-standing anti-semitic sentiment. Otherwise, very few liberties are taken with Dickens's original. All of the most memorable elements are included. Just enough menace and violence is retained to ensure narrative fidelity whilst at the same time allowing for children' sensibilities. Nancy is still beaten to death, Bullseye narrowly escapes drowning, and Bill Sykes gets a faithfully graphic come-uppance.<br /><br />Every song is excellent, though they do incline towards schmaltz. Mark Lester mimes his wonderfully. Both his and my favourite scene is the one in which the world comes alive to 'who will buy'. It's schmaltzy, but it's Dickens through and through.<br /><br />I could go on. I could commend the wonderful set-pieces, the contrast of the rich and poor. There is top-quality acting from more British regulars than you could shake a stick at.<br /><br />I ought to give it 10 points, but I'm feeling more like Scrooge today. Soak it up with your Christmas dinner. No original has been better realised.\",\n",
       "       b\"Oh yeah! Jenna Jameson did it again! Yeah Baby! This movie rocks. It was one of the 1st movies i saw of her. And i have to say i feel in love with her, she was great in this move.<br /><br />Her performance was outstanding and what i liked the most was the scenery and the wardrobe it was amazing you can tell that they put a lot into the movie the girls cloth were amazing.<br /><br />I hope this comment helps and u can buy the movie, the storyline is awesome is very unique and i'm sure u are going to like it. Jenna amazed us once more and no wonder the movie won so many awards. Her make-up and wardrobe is very very sexy and the girls on girls scene is amazing. specially the one where she looks like an angel. It's a must see and i hope u share my interests\",\n",
       "       b\"I saw this film on True Movies (which automatically made me sceptical) but actually - it was good. Why? Not because of the amazing plot twists or breathtaking dialogue (of which there is little) but because actually, despite what people say I thought the film was accurate in it's depiction of teenagers dealing with pregnancy.<br /><br />It's NOT Dawson's Creek, they're not graceful, cool witty characters who breeze through sexuality with effortless knowledge. They're kids and they act like kids would. <br /><br />They're blunt, awkward and annoyingly confused about everything. Yes, this could be by accident and they could just be bad actors but I don't think so. Dermot Mulroney gives (when not trying to be cool) a very believable performance and I loved him for it. Patricia Arquette IS whiny and annoying, but she was pregnant and a teenagers? The combination of the two isn't exactly lavender on your pillow. The plot was VERY predictable and but so what? I believed them, his stress and inability to cope - her brave, yet slightly misguided attempts to bring them closer together. I think the characters, acted by anyone else, WOULD indeed have been annoying and unbelievable but they weren't. It reflects the surreality of the situation they're in, that he's sitting in class and she walks on campus with the baby. I felt angry at her for that, I felt angry at him for being such a child and for blaming her. I felt it all.<br /><br />In the end, I loved it and would recommend it.<br /><br />Watch out for the scene where Dermot Mulroney runs from the disastrous counselling session - career performance.\",\n",
       "       b'This was a wonderfully clever and entertaining movie that I shall never tire of watching many, many times. The casting was magnificent in matching up the young with the older characters. There are those of us out here who really do appreciate good actors and an intelligent story format. As for Judi Dench, she is beautiful and a gift to any kind of production in which she stars. I always make a point to see Judi Dench in all her performances. She is a superb actress and a pleasure to watch as each transformation of her character comes to life. I can only be grateful when I see such an outstanding picture for most of the motion pictures made more recently lack good characters, good scripts and good acting. The movie public needs heroes, not deviant manikins, who lack ingenuity and talent. How wonderful to see old favorites like Leslie Caron, Olympia Dukakis and Cleo Laine. I would like to see this movie win the awards it deserves. Thank you again for a tremendous night of entertainment. I congratulate the writer, director, producer, and all those who did such a fine job.',\n",
       "       b'I have no idea what the other reviewer is talking about- this was a wonderful movie, and created a sense of the era that feels like time travel. The characters are truly young, Mary is a strong match for Byron, Claire is juvenile and a tad annoying, Polidori is a convincing beaten-down sycophant... all are beautiful, curious, and decadent... not the frightening wrecks they are in Gothic.<br /><br />Gothic works as an independent piece of shock film, and I loved it for different reasons, but this works like a Merchant and Ivory film, and was from my readings the best capture of what the summer must have felt like. Romantic, yes, but completely rekindles my interest in the lives of Shelley and Byron every time I think about the film. One of my all-time favorites.',\n",
       "       b\"This was soul-provoking! I am an Iranian, and living in th 21st century, I didn't know that such big tribes have been living in such conditions at the time of my grandfather!<br /><br />You see that today, or even in 1925, on one side of the world a lady or a baby could have everything served for him or her clean and on-demand, but here 80 years ago, people ventured their life to go to somewhere with more grass. It's really interesting that these Persians bear those difficulties to find pasture for their sheep, but they lose many the sheep on their way.<br /><br />I praise the Americans who accompanied this tribe, they were as tough as Bakhtiari people.\",\n",
       "       b'Just because someone is under the age of 10 does not mean they are stupid. If your child likes this film you\\'d better have him/her tested. I am continually amazed at how so many people can be involved in something that turns out so bad. This \"film\" is a showcase for digital wizardry AND NOTHING ELSE. The writing is horrid. I can\\'t remember when I\\'ve heard such bad dialogue. The songs are beyond wretched. The acting is sub-par but then the actors were not given much. Who decided to employ Joey Fatone? He cannot sing and he is ugly as sin.<br /><br />The worst thing is the obviousness of it all. It is as if the writers went out of their way to make it all as stupid as possible. Great children\\'s movies are wicked, smart and full of wit - films like Shrek and Toy Story in recent years, Willie Wonka and The Witches to mention two of the past. But in the continual dumbing-down of American more are flocking to dreck like Finding Nemo (yes, that\\'s right), the recent Charlie & The Chocolate Factory and eye-crossing trash like Red Riding Hood.',\n",
       "       b\"I absolutely LOVED this movie when I was a kid. I cried every time I watched it. It wasn't weird to me. I totally identified with the characters. I would love to see it again (and hope I wont be disappointed!). Pufnstuf rocks!!!! I was really drawn in to the fantasy world. And to me the movie was loooong. I wonder if I ever saw the series and have confused them? The acting I thought was strong. I loved Jack Wilde. He was so dreamy to an 10 year old (when I first saw the movie, not in 1970. I can still remember the characters vividly. The flute was totally believable and I can still 'feel' the evil woods. Witchy poo was scary - I wouldn't want to cross her path.\",\n",
       "       b'A very close and sharp discription of the bubbling and dynamic emotional world of specialy one 18year old guy, that makes his first experiences in his gay love to an other boy, during an vacation with a part of his family.<br /><br />I liked this film because of his extremly clear and surrogated storytelling , with all this \"Sound-close-ups\" and quiet moments wich had been full of intensive moods.<br /><br />',\n",
       "       b\"This is the most depressing film I have ever seen. I first saw it as a child and even thinking about it now really upsets me. I know it was set in a time when life was hard and I know these people were poor and the crops were vital. Yes, I get all that. What I find hard to take is I can't remember one single light moment in the entire film. Maybe it was true to life, I don't know. I'm quite sure the acting was top notch and the direction and quality of filming etc etc was wonderful and I know that every film can't have a happy ending but as a family film it is dire in my opinion.<br /><br />I wouldn't recommend it to anyone who wants to be entertained by a film. I can't stress enough how this film affected me as a child. I was talking about it recently and all the sad memories came flooding back. I think it would have all but the heartless reaching for the Prozac.\"],\n",
       "      dtype=object)>"
      ]
     },
     "execution_count": 5,
     "metadata": {},
     "output_type": "execute_result"
    }
   ],
   "source": [
    "train_example_batch, train_labels_batch = next(iter(train_data.batch(10)))\n",
    "train_example_batch"
   ]
  },
  {
   "cell_type": "code",
   "execution_count": 6,
   "metadata": {},
   "outputs": [
    {
     "data": {
      "text/plain": [
       "<tf.Tensor: id=440, shape=(10,), dtype=int64, numpy=array([1, 1, 1, 1, 1, 1, 0, 1, 1, 0], dtype=int64)>"
      ]
     },
     "execution_count": 6,
     "metadata": {},
     "output_type": "execute_result"
    }
   ],
   "source": [
    "train_labels_batch"
   ]
  },
  {
   "cell_type": "code",
   "execution_count": 7,
   "metadata": {},
   "outputs": [],
   "source": [
    "embedding = \"https://hub.tensorflow.google.cn/google/tf2-preview/gnews-swivel-20dim/1\""
   ]
  },
  {
   "cell_type": "code",
   "execution_count": 8,
   "metadata": {},
   "outputs": [
    {
     "data": {
      "text/plain": [
       "<tf.Tensor: id=620, shape=(3, 20), dtype=float32, numpy=\n",
       "array([[ 3.9819887 , -4.4838037 ,  5.177359  , -2.3643482 , -3.2938678 ,\n",
       "        -3.5364532 , -2.4786978 ,  2.5525482 ,  6.688532  , -2.3076782 ,\n",
       "        -1.9807833 ,  1.1315885 , -3.0339816 , -0.7604128 , -5.743445  ,\n",
       "         3.4242578 ,  4.790099  , -4.03061   , -5.992149  , -1.7297493 ],\n",
       "       [ 3.4232912 , -4.230874  ,  4.1488533 , -0.29553518, -6.802391  ,\n",
       "        -2.5163853 , -4.4002395 ,  1.905792  ,  4.7512794 , -0.40538004,\n",
       "        -4.3401685 ,  1.0361497 ,  0.9744097 ,  0.71507156, -6.2657013 ,\n",
       "         0.16533905,  4.560262  , -1.3106939 , -3.1121316 , -2.1338716 ],\n",
       "       [ 3.8508697 , -5.003031  ,  4.8700504 , -0.04324996, -5.893603  ,\n",
       "        -5.2983093 , -4.004676  ,  4.1236343 ,  6.267754  ,  0.11632943,\n",
       "        -3.5934832 ,  0.8023905 ,  0.56146765,  0.9192484 , -7.3066816 ,\n",
       "         2.8202746 ,  6.2000837 , -3.5709393 , -4.564525  , -2.305622  ]],\n",
       "      dtype=float32)>"
      ]
     },
     "execution_count": 8,
     "metadata": {},
     "output_type": "execute_result"
    }
   ],
   "source": [
    "hub_layer = hub.KerasLayer(embedding, input_shape=[],\n",
    "                          dtype=tf.string, trainable=True)\n",
    "hub_layer(train_example_batch[:3])"
   ]
  },
  {
   "cell_type": "code",
   "execution_count": 9,
   "metadata": {},
   "outputs": [
    {
     "name": "stdout",
     "output_type": "stream",
     "text": [
      "Model: \"sequential\"\n",
      "_________________________________________________________________\n",
      "Layer (type)                 Output Shape              Param #   \n",
      "=================================================================\n",
      "keras_layer (KerasLayer)     (None, 20)                400020    \n",
      "_________________________________________________________________\n",
      "dense (Dense)                (None, 16)                336       \n",
      "_________________________________________________________________\n",
      "dense_1 (Dense)              (None, 1)                 17        \n",
      "=================================================================\n",
      "Total params: 400,373\n",
      "Trainable params: 400,373\n",
      "Non-trainable params: 0\n",
      "_________________________________________________________________\n"
     ]
    }
   ],
   "source": [
    "model = tf.keras.Sequential()\n",
    "model.add(hub_layer)\n",
    "model.add(tf.keras.layers.Dense(16, activation=\"relu\"))\n",
    "model.add(tf.keras.layers.Dense(1, activation=\"sigmoid\"))\n",
    "model.summary()"
   ]
  },
  {
   "cell_type": "code",
   "execution_count": 10,
   "metadata": {},
   "outputs": [],
   "source": [
    "# loss: binary classification --> binary_crossentropy\n",
    "# binary_crossentropy is better for dealing with probabilities\n",
    "# regression problems  --> mean squared error."
   ]
  },
  {
   "cell_type": "code",
   "execution_count": 11,
   "metadata": {},
   "outputs": [],
   "source": [
    "model.compile(optimizer=\"adam\",\n",
    "             loss=\"binary_crossentropy\",\n",
    "             metrics=[\"accuracy\"])"
   ]
  },
  {
   "cell_type": "code",
   "execution_count": 12,
   "metadata": {},
   "outputs": [
    {
     "name": "stdout",
     "output_type": "stream",
     "text": [
      "Epoch 1/20\n"
     ]
    },
    {
     "name": "stderr",
     "output_type": "stream",
     "text": [
      "W1114 14:22:04.280811 102032 deprecation.py:323] From C:\\Users\\dyb\\Anaconda3\\lib\\site-packages\\tensorflow_core\\python\\ops\\nn_impl.py:183: where (from tensorflow.python.ops.array_ops) is deprecated and will be removed in a future version.\n",
      "Instructions for updating:\n",
      "Use tf.where in 2.0, which has the same broadcast rule as np.where\n"
     ]
    },
    {
     "name": "stdout",
     "output_type": "stream",
     "text": [
      "30/30 [==============================].2603 - accuracy: 0.50 - 2s 1s/step - loss: 1.2669 - accuracy: 0.49 - 2s 750ms/step - loss: 1.2418 - accuracy: 0.503 - 2s 591ms/step - loss: 1.2270 - accuracy: 0.497 - 2s 493ms/step - loss: 1.2155 - accuracy: 0.489 - 3s 430ms/step - loss: 1.2016 - accuracy: 0.485 - 3s 383ms/step - loss: 1.1679 - accuracy: 0.490 - 3s 348ms/step - loss: 1.1411 - accuracy: 0.493 - 3s 322ms/step - loss: 1.1252 - accuracy: 0.490 - 3s 299ms/step - loss: 1.1115 - accuracy: 0.489 - 3s 281ms/step - loss: 1.0913 - accuracy: 0.489 - 3s 266ms/step - loss: 1.0743 - accuracy: 0.489 - 3s 252ms/step - loss: 1.0591 - accuracy: 0.488 - 3s 240ms/step - loss: 1.0438 - accuracy: 0.485 - 3s 230ms/step - loss: 1.0269 - accuracy: 0.485 - 4s 221ms/step - loss: 1.0111 - accuracy: 0.485 - 4s 213ms/step - loss: 0.9987 - accuracy: 0.482 - 4s 207ms/step - loss: 0.9874 - accuracy: 0.480 - 4s 201ms/step - loss: 0.9760 - accuracy: 0.478 - 4s 196ms/step - loss: 0.9666 - accuracy: 0.474 - 4s 192ms/step - loss: 0.9562 - accuracy: 0.473 - 4s 187ms/step - loss: 0.9469 - accuracy: 0.473 - 4s 183ms/step - loss: 0.9383 - accuracy: 0.473 - 4s 179ms/step - loss: 0.9301 - accuracy: 0.473 - 4s 175ms/step - loss: 0.9208 - accuracy: 0.476 - 4s 172ms/step - loss: 0.9132 - accuracy: 0.477 - 5s 169ms/step - loss: 0.9072 - accuracy: 0.476 - 5s 166ms/step - loss: 0.9010 - accuracy: 0.478 - 5s 163ms/step - loss: 0.8951 - accuracy: 0.478 - 5s 159ms/step - loss: 0.8877 - accuracy: 0.480 - 7s 241ms/step - loss: 0.8877 - accuracy: 0.4801 - val_loss: 0.0000e+00 - val_accuracy: 0.0000e+00\n",
      "Epoch 2/20\n",
      "30/30 [==============================] - ETA: 15s - loss: 0.7112 - accuracy: 0.537 - ETA: 8s - loss: 0.7098 - accuracy: 0.533 - ETA: 6s - loss: 0.7121 - accuracy: 0.52 - ETA: 4s - loss: 0.7093 - accuracy: 0.52 - ETA: 3s - loss: 0.7069 - accuracy: 0.52 - ETA: 3s - loss: 0.7042 - accuracy: 0.53 - ETA: 2s - loss: 0.7022 - accuracy: 0.54 - ETA: 2s - loss: 0.7008 - accuracy: 0.54 - ETA: 2s - loss: 0.6984 - accuracy: 0.54 - ETA: 1s - loss: 0.6946 - accuracy: 0.55 - ETA: 1s - loss: 0.6936 - accuracy: 0.55 - ETA: 1s - loss: 0.6917 - accuracy: 0.55 - ETA: 1s - loss: 0.6895 - accuracy: 0.55 - ETA: 0s - loss: 0.6871 - accuracy: 0.56 - ETA: 0s - loss: 0.6858 - accuracy: 0.56 - ETA: 0s - loss: 0.6830 - accuracy: 0.56 - ETA: 0s - loss: 0.6804 - accuracy: 0.57 - ETA: 0s - loss: 0.6792 - accuracy: 0.57 - ETA: 0s - loss: 0.6781 - accuracy: 0.57 - 6s 186ms/step - loss: 0.6717 - accuracy: 0.6059 - val_loss: 0.6208 - val_accuracy: 0.6704\n",
      "Epoch 3/20\n",
      "30/30 [==============================] - ETA: 15s - loss: 0.6259 - accuracy: 0.654 - ETA: 8s - loss: 0.6199 - accuracy: 0.662 - ETA: 6s - loss: 0.6201 - accuracy: 0.67 - ETA: 4s - loss: 0.6186 - accuracy: 0.67 - ETA: 3s - loss: 0.6152 - accuracy: 0.67 - ETA: 3s - loss: 0.6128 - accuracy: 0.68 - ETA: 2s - loss: 0.6167 - accuracy: 0.67 - ETA: 2s - loss: 0.6145 - accuracy: 0.67 - ETA: 2s - loss: 0.6128 - accuracy: 0.68 - ETA: 1s - loss: 0.6140 - accuracy: 0.67 - ETA: 1s - loss: 0.6143 - accuracy: 0.67 - ETA: 1s - loss: 0.6133 - accuracy: 0.67 - ETA: 1s - loss: 0.6124 - accuracy: 0.67 - ETA: 0s - loss: 0.6123 - accuracy: 0.67 - ETA: 0s - loss: 0.6115 - accuracy: 0.67 - ETA: 0s - loss: 0.6113 - accuracy: 0.67 - ETA: 0s - loss: 0.6114 - accuracy: 0.67 - ETA: 0s - loss: 0.6107 - accuracy: 0.67 - ETA: 0s - loss: 0.6094 - accuracy: 0.67 - 6s 186ms/step - loss: 0.6073 - accuracy: 0.6845 - val_loss: 0.5882 - val_accuracy: 0.7054\n",
      "Epoch 4/20\n",
      "30/30 [==============================] - ETA: 16s - loss: 0.5722 - accuracy: 0.740 - ETA: 8s - loss: 0.5862 - accuracy: 0.706 - ETA: 6s - loss: 0.5861 - accuracy: 0.69 - ETA: 5s - loss: 0.5920 - accuracy: 0.68 - ETA: 4s - loss: 0.5884 - accuracy: 0.69 - ETA: 3s - loss: 0.5882 - accuracy: 0.69 - ETA: 2s - loss: 0.5924 - accuracy: 0.69 - ETA: 2s - loss: 0.5902 - accuracy: 0.69 - ETA: 2s - loss: 0.5859 - accuracy: 0.70 - ETA: 1s - loss: 0.5869 - accuracy: 0.70 - ETA: 1s - loss: 0.5855 - accuracy: 0.70 - ETA: 1s - loss: 0.5840 - accuracy: 0.70 - ETA: 1s - loss: 0.5838 - accuracy: 0.70 - ETA: 0s - loss: 0.5842 - accuracy: 0.70 - ETA: 0s - loss: 0.5844 - accuracy: 0.70 - ETA: 0s - loss: 0.5830 - accuracy: 0.70 - ETA: 0s - loss: 0.5825 - accuracy: 0.70 - ETA: 0s - loss: 0.5819 - accuracy: 0.71 - ETA: 0s - loss: 0.5805 - accuracy: 0.71 - 6s 187ms/step - loss: 0.5773 - accuracy: 0.7173 - val_loss: 0.5615 - val_accuracy: 0.7294\n",
      "Epoch 5/20\n",
      "30/30 [==============================] - ETA: 16s - loss: 0.5435 - accuracy: 0.750 - ETA: 8s - loss: 0.5688 - accuracy: 0.720 - ETA: 6s - loss: 0.5632 - accuracy: 0.71 - ETA: 5s - loss: 0.5676 - accuracy: 0.72 - ETA: 4s - loss: 0.5650 - accuracy: 0.72 - ETA: 3s - loss: 0.5611 - accuracy: 0.72 - ETA: 2s - loss: 0.5590 - accuracy: 0.72 - ETA: 2s - loss: 0.5559 - accuracy: 0.72 - ETA: 2s - loss: 0.5557 - accuracy: 0.72 - ETA: 1s - loss: 0.5566 - accuracy: 0.72 - ETA: 1s - loss: 0.5550 - accuracy: 0.72 - ETA: 1s - loss: 0.5545 - accuracy: 0.72 - ETA: 1s - loss: 0.5529 - accuracy: 0.72 - ETA: 0s - loss: 0.5530 - accuracy: 0.73 - ETA: 0s - loss: 0.5506 - accuracy: 0.73 - ETA: 0s - loss: 0.5490 - accuracy: 0.73 - ETA: 0s - loss: 0.5497 - accuracy: 0.73 - ETA: 0s - loss: 0.5500 - accuracy: 0.73 - ETA: 0s - loss: 0.5507 - accuracy: 0.73 - 6s 187ms/step - loss: 0.5474 - accuracy: 0.7431 - val_loss: 0.5348 - val_accuracy: 0.7502\n",
      "Epoch 6/20\n",
      "30/30 [==============================] - ETA: 15s - loss: 0.5325 - accuracy: 0.736 - ETA: 8s - loss: 0.5248 - accuracy: 0.742 - ETA: 6s - loss: 0.5202 - accuracy: 0.75 - ETA: 4s - loss: 0.5194 - accuracy: 0.75 - ETA: 4s - loss: 0.5231 - accuracy: 0.74 - ETA: 3s - loss: 0.5224 - accuracy: 0.75 - ETA: 2s - loss: 0.5211 - accuracy: 0.75 - ETA: 2s - loss: 0.5224 - accuracy: 0.75 - ETA: 2s - loss: 0.5232 - accuracy: 0.75 - ETA: 1s - loss: 0.5245 - accuracy: 0.74 - ETA: 1s - loss: 0.5242 - accuracy: 0.74 - ETA: 1s - loss: 0.5255 - accuracy: 0.74 - ETA: 1s - loss: 0.5221 - accuracy: 0.74 - ETA: 1s - loss: 0.5234 - accuracy: 0.74 - ETA: 0s - loss: 0.5226 - accuracy: 0.74 - ETA: 0s - loss: 0.5211 - accuracy: 0.75 - ETA: 0s - loss: 0.5192 - accuracy: 0.75 - ETA: 0s - loss: 0.5188 - accuracy: 0.75 - ETA: 0s - loss: 0.5182 - accuracy: 0.75 - 6s 194ms/step - loss: 0.5152 - accuracy: 0.7633 - val_loss: 0.5059 - val_accuracy: 0.7688\n",
      "Epoch 7/20\n",
      "30/30 [==============================] - ETA: 16s - loss: 0.4920 - accuracy: 0.753 - ETA: 8s - loss: 0.4719 - accuracy: 0.784 - ETA: 6s - loss: 0.4808 - accuracy: 0.78 - ETA: 4s - loss: 0.4835 - accuracy: 0.78 - ETA: 4s - loss: 0.4857 - accuracy: 0.78 - ETA: 3s - loss: 0.4857 - accuracy: 0.78 - ETA: 3s - loss: 0.4850 - accuracy: 0.78 - ETA: 2s - loss: 0.4866 - accuracy: 0.78 - ETA: 2s - loss: 0.4876 - accuracy: 0.77 - ETA: 1s - loss: 0.4883 - accuracy: 0.77 - ETA: 1s - loss: 0.4868 - accuracy: 0.77 - ETA: 1s - loss: 0.4856 - accuracy: 0.77 - ETA: 1s - loss: 0.4826 - accuracy: 0.78 - ETA: 1s - loss: 0.4833 - accuracy: 0.78 - ETA: 0s - loss: 0.4824 - accuracy: 0.78 - ETA: 0s - loss: 0.4796 - accuracy: 0.78 - ETA: 0s - loss: 0.4789 - accuracy: 0.78 - ETA: 0s - loss: 0.4793 - accuracy: 0.78 - ETA: 0s - loss: 0.4794 - accuracy: 0.78 - 6s 202ms/step - loss: 0.4781 - accuracy: 0.7875 - val_loss: 0.4754 - val_accuracy: 0.7883\n",
      "Epoch 8/20\n",
      "30/30 [==============================] - ETA: 14s - loss: 0.4483 - accuracy: 0.804 - ETA: 8s - loss: 0.4579 - accuracy: 0.799 - ETA: 5s - loss: 0.4599 - accuracy: 0.80 - ETA: 4s - loss: 0.4611 - accuracy: 0.80 - ETA: 3s - loss: 0.4619 - accuracy: 0.79 - ETA: 3s - loss: 0.4584 - accuracy: 0.79 - ETA: 2s - loss: 0.4572 - accuracy: 0.79 - ETA: 2s - loss: 0.4581 - accuracy: 0.79 - ETA: 2s - loss: 0.4559 - accuracy: 0.79 - ETA: 1s - loss: 0.4545 - accuracy: 0.79 - ETA: 1s - loss: 0.4523 - accuracy: 0.80 - ETA: 1s - loss: 0.4508 - accuracy: 0.80 - ETA: 1s - loss: 0.4499 - accuracy: 0.80 - ETA: 0s - loss: 0.4468 - accuracy: 0.80 - ETA: 0s - loss: 0.4458 - accuracy: 0.80 - ETA: 0s - loss: 0.4451 - accuracy: 0.80 - ETA: 0s - loss: 0.4435 - accuracy: 0.80 - ETA: 0s - loss: 0.4430 - accuracy: 0.80 - ETA: 0s - loss: 0.4421 - accuracy: 0.80 - 6s 189ms/step - loss: 0.4407 - accuracy: 0.8105 - val_loss: 0.4428 - val_accuracy: 0.8038\n",
      "Epoch 9/20\n"
     ]
    },
    {
     "name": "stdout",
     "output_type": "stream",
     "text": [
      "30/30 [==============================] - ETA: 15s - loss: 0.4072 - accuracy: 0.826 - ETA: 8s - loss: 0.4147 - accuracy: 0.824 - ETA: 6s - loss: 0.4169 - accuracy: 0.82 - ETA: 4s - loss: 0.4151 - accuracy: 0.82 - ETA: 3s - loss: 0.4146 - accuracy: 0.82 - ETA: 3s - loss: 0.4159 - accuracy: 0.82 - ETA: 2s - loss: 0.4135 - accuracy: 0.82 - ETA: 2s - loss: 0.4132 - accuracy: 0.82 - ETA: 2s - loss: 0.4116 - accuracy: 0.82 - ETA: 1s - loss: 0.4105 - accuracy: 0.82 - ETA: 1s - loss: 0.4108 - accuracy: 0.82 - ETA: 1s - loss: 0.4116 - accuracy: 0.82 - ETA: 1s - loss: 0.4105 - accuracy: 0.82 - ETA: 0s - loss: 0.4092 - accuracy: 0.82 - ETA: 0s - loss: 0.4095 - accuracy: 0.82 - ETA: 0s - loss: 0.4086 - accuracy: 0.83 - ETA: 0s - loss: 0.4090 - accuracy: 0.82 - ETA: 0s - loss: 0.4076 - accuracy: 0.82 - ETA: 0s - loss: 0.4073 - accuracy: 0.82 - 6s 185ms/step - loss: 0.4040 - accuracy: 0.8349 - val_loss: 0.4115 - val_accuracy: 0.8215\n",
      "Epoch 10/20\n",
      "30/30 [==============================] - ETA: 14s - loss: 0.3747 - accuracy: 0.843 - ETA: 7s - loss: 0.3727 - accuracy: 0.850 - ETA: 5s - loss: 0.3708 - accuracy: 0.84 - ETA: 4s - loss: 0.3826 - accuracy: 0.84 - ETA: 3s - loss: 0.3752 - accuracy: 0.84 - ETA: 3s - loss: 0.3695 - accuracy: 0.84 - ETA: 2s - loss: 0.3687 - accuracy: 0.84 - ETA: 2s - loss: 0.3665 - accuracy: 0.85 - ETA: 2s - loss: 0.3640 - accuracy: 0.85 - ETA: 1s - loss: 0.3648 - accuracy: 0.85 - ETA: 1s - loss: 0.3647 - accuracy: 0.85 - ETA: 1s - loss: 0.3637 - accuracy: 0.85 - ETA: 1s - loss: 0.3676 - accuracy: 0.85 - ETA: 1s - loss: 0.3647 - accuracy: 0.85 - ETA: 0s - loss: 0.3647 - accuracy: 0.85 - ETA: 0s - loss: 0.3633 - accuracy: 0.85 - ETA: 0s - loss: 0.3621 - accuracy: 0.85 - ETA: 0s - loss: 0.3613 - accuracy: 0.85 - ETA: 0s - loss: 0.3633 - accuracy: 0.85 - 6s 195ms/step - loss: 0.3620 - accuracy: 0.8561 - val_loss: 0.3829 - val_accuracy: 0.8356\n",
      "Epoch 11/20\n",
      "30/30 [==============================] - ETA: 15s - loss: 0.3313 - accuracy: 0.869 - ETA: 8s - loss: 0.3294 - accuracy: 0.870 - ETA: 6s - loss: 0.3318 - accuracy: 0.86 - ETA: 4s - loss: 0.3354 - accuracy: 0.86 - ETA: 3s - loss: 0.3412 - accuracy: 0.86 - ETA: 3s - loss: 0.3404 - accuracy: 0.86 - ETA: 2s - loss: 0.3366 - accuracy: 0.86 - ETA: 2s - loss: 0.3359 - accuracy: 0.86 - ETA: 2s - loss: 0.3342 - accuracy: 0.86 - ETA: 1s - loss: 0.3321 - accuracy: 0.86 - ETA: 1s - loss: 0.3317 - accuracy: 0.86 - ETA: 1s - loss: 0.3331 - accuracy: 0.86 - ETA: 1s - loss: 0.3324 - accuracy: 0.86 - ETA: 0s - loss: 0.3341 - accuracy: 0.86 - ETA: 0s - loss: 0.3356 - accuracy: 0.86 - ETA: 0s - loss: 0.3358 - accuracy: 0.86 - ETA: 0s - loss: 0.3342 - accuracy: 0.86 - ETA: 0s - loss: 0.3348 - accuracy: 0.86 - ETA: 0s - loss: 0.3335 - accuracy: 0.86 - 6s 191ms/step - loss: 0.3307 - accuracy: 0.8723 - val_loss: 0.3616 - val_accuracy: 0.8448\n",
      "Epoch 12/20\n",
      "30/30 [==============================] - ETA: 17s - loss: 0.3350 - accuracy: 0.861 - ETA: 9s - loss: 0.3247 - accuracy: 0.861 - ETA: 6s - loss: 0.3147 - accuracy: 0.86 - ETA: 5s - loss: 0.3086 - accuracy: 0.86 - ETA: 4s - loss: 0.3106 - accuracy: 0.87 - ETA: 3s - loss: 0.3143 - accuracy: 0.86 - ETA: 3s - loss: 0.3156 - accuracy: 0.86 - ETA: 2s - loss: 0.3111 - accuracy: 0.87 - ETA: 2s - loss: 0.3098 - accuracy: 0.87 - ETA: 1s - loss: 0.3137 - accuracy: 0.87 - ETA: 1s - loss: 0.3156 - accuracy: 0.87 - ETA: 1s - loss: 0.3139 - accuracy: 0.87 - ETA: 1s - loss: 0.3127 - accuracy: 0.87 - ETA: 1s - loss: 0.3119 - accuracy: 0.87 - ETA: 0s - loss: 0.3104 - accuracy: 0.87 - ETA: 0s - loss: 0.3087 - accuracy: 0.87 - ETA: 0s - loss: 0.3084 - accuracy: 0.87 - ETA: 0s - loss: 0.3078 - accuracy: 0.87 - ETA: 0s - loss: 0.3066 - accuracy: 0.88 - 6s 200ms/step - loss: 0.3031 - accuracy: 0.8869 - val_loss: 0.3431 - val_accuracy: 0.8555\n",
      "Epoch 13/20\n",
      "30/30 [==============================] - ETA: 15s - loss: 0.2872 - accuracy: 0.894 - ETA: 8s - loss: 0.2733 - accuracy: 0.897 - ETA: 6s - loss: 0.2733 - accuracy: 0.89 - ETA: 4s - loss: 0.2752 - accuracy: 0.89 - ETA: 4s - loss: 0.2772 - accuracy: 0.89 - ETA: 3s - loss: 0.2785 - accuracy: 0.89 - ETA: 3s - loss: 0.2816 - accuracy: 0.89 - ETA: 2s - loss: 0.2841 - accuracy: 0.89 - ETA: 2s - loss: 0.2837 - accuracy: 0.89 - ETA: 1s - loss: 0.2832 - accuracy: 0.89 - ETA: 1s - loss: 0.2838 - accuracy: 0.89 - ETA: 1s - loss: 0.2806 - accuracy: 0.89 - ETA: 1s - loss: 0.2789 - accuracy: 0.89 - ETA: 1s - loss: 0.2769 - accuracy: 0.89 - ETA: 0s - loss: 0.2783 - accuracy: 0.89 - ETA: 0s - loss: 0.2759 - accuracy: 0.89 - ETA: 0s - loss: 0.2773 - accuracy: 0.89 - ETA: 0s - loss: 0.2794 - accuracy: 0.89 - ETA: 0s - loss: 0.2783 - accuracy: 0.89 - 6s 199ms/step - loss: 0.2762 - accuracy: 0.8974 - val_loss: 0.3302 - val_accuracy: 0.8616\n",
      "Epoch 14/20\n",
      "30/30 [==============================] - ETA: 15s - loss: 0.2370 - accuracy: 0.914 - ETA: 8s - loss: 0.2517 - accuracy: 0.906 - ETA: 5s - loss: 0.2564 - accuracy: 0.90 - ETA: 4s - loss: 0.2510 - accuracy: 0.90 - ETA: 3s - loss: 0.2551 - accuracy: 0.90 - ETA: 3s - loss: 0.2557 - accuracy: 0.90 - ETA: 2s - loss: 0.2579 - accuracy: 0.90 - ETA: 2s - loss: 0.2526 - accuracy: 0.90 - ETA: 2s - loss: 0.2533 - accuracy: 0.90 - ETA: 1s - loss: 0.2567 - accuracy: 0.90 - ETA: 1s - loss: 0.2582 - accuracy: 0.90 - ETA: 1s - loss: 0.2568 - accuracy: 0.90 - ETA: 1s - loss: 0.2581 - accuracy: 0.90 - ETA: 0s - loss: 0.2561 - accuracy: 0.90 - ETA: 0s - loss: 0.2567 - accuracy: 0.90 - ETA: 0s - loss: 0.2582 - accuracy: 0.90 - ETA: 0s - loss: 0.2572 - accuracy: 0.90 - ETA: 0s - loss: 0.2557 - accuracy: 0.90 - ETA: 0s - loss: 0.2557 - accuracy: 0.90 - 5s 183ms/step - loss: 0.2542 - accuracy: 0.9059 - val_loss: 0.3195 - val_accuracy: 0.8660\n",
      "Epoch 15/20\n",
      "30/30 [==============================] - ETA: 14s - loss: 0.2362 - accuracy: 0.919 - ETA: 8s - loss: 0.2255 - accuracy: 0.919 - ETA: 5s - loss: 0.2345 - accuracy: 0.91 - ETA: 4s - loss: 0.2333 - accuracy: 0.91 - ETA: 3s - loss: 0.2347 - accuracy: 0.91 - ETA: 3s - loss: 0.2348 - accuracy: 0.91 - ETA: 2s - loss: 0.2347 - accuracy: 0.91 - ETA: 2s - loss: 0.2377 - accuracy: 0.91 - ETA: 2s - loss: 0.2379 - accuracy: 0.91 - ETA: 1s - loss: 0.2370 - accuracy: 0.91 - ETA: 1s - loss: 0.2339 - accuracy: 0.91 - ETA: 1s - loss: 0.2328 - accuracy: 0.91 - ETA: 1s - loss: 0.2318 - accuracy: 0.91 - ETA: 0s - loss: 0.2320 - accuracy: 0.91 - ETA: 0s - loss: 0.2325 - accuracy: 0.91 - ETA: 0s - loss: 0.2333 - accuracy: 0.91 - ETA: 0s - loss: 0.2334 - accuracy: 0.91 - ETA: 0s - loss: 0.2331 - accuracy: 0.91 - ETA: 0s - loss: 0.2334 - accuracy: 0.91 - 6s 186ms/step - loss: 0.2328 - accuracy: 0.9162 - val_loss: 0.3124 - val_accuracy: 0.8695\n",
      "Epoch 16/20\n",
      "30/30 [==============================] - ETA: 15s - loss: 0.2369 - accuracy: 0.910 - ETA: 8s - loss: 0.2218 - accuracy: 0.918 - ETA: 6s - loss: 0.2170 - accuracy: 0.92 - ETA: 4s - loss: 0.2133 - accuracy: 0.92 - ETA: 3s - loss: 0.2168 - accuracy: 0.92 - ETA: 3s - loss: 0.2199 - accuracy: 0.92 - ETA: 2s - loss: 0.2216 - accuracy: 0.91 - ETA: 2s - loss: 0.2212 - accuracy: 0.91 - ETA: 2s - loss: 0.2195 - accuracy: 0.92 - ETA: 1s - loss: 0.2162 - accuracy: 0.92 - ETA: 1s - loss: 0.2187 - accuracy: 0.92 - ETA: 1s - loss: 0.2191 - accuracy: 0.92 - ETA: 1s - loss: 0.2191 - accuracy: 0.92 - ETA: 1s - loss: 0.2198 - accuracy: 0.92 - ETA: 0s - loss: 0.2188 - accuracy: 0.92 - ETA: 0s - loss: 0.2184 - accuracy: 0.92 - ETA: 0s - loss: 0.2180 - accuracy: 0.92 - ETA: 0s - loss: 0.2190 - accuracy: 0.92 - ETA: 0s - loss: 0.2173 - accuracy: 0.92 - 6s 194ms/step - loss: 0.2164 - accuracy: 0.9232 - val_loss: 0.3067 - val_accuracy: 0.8720\n",
      "Epoch 17/20\n"
     ]
    },
    {
     "name": "stdout",
     "output_type": "stream",
     "text": [
      "30/30 [==============================] - ETA: 16s - loss: 0.2001 - accuracy: 0.935 - ETA: 9s - loss: 0.1841 - accuracy: 0.940 - ETA: 6s - loss: 0.1971 - accuracy: 0.92 - ETA: 5s - loss: 0.1987 - accuracy: 0.92 - ETA: 4s - loss: 0.2024 - accuracy: 0.92 - ETA: 3s - loss: 0.1932 - accuracy: 0.93 - ETA: 3s - loss: 0.1966 - accuracy: 0.93 - ETA: 2s - loss: 0.1971 - accuracy: 0.93 - ETA: 2s - loss: 0.1981 - accuracy: 0.93 - ETA: 2s - loss: 0.1981 - accuracy: 0.93 - ETA: 1s - loss: 0.1974 - accuracy: 0.93 - ETA: 1s - loss: 0.1966 - accuracy: 0.93 - ETA: 1s - loss: 0.1954 - accuracy: 0.93 - ETA: 1s - loss: 0.1967 - accuracy: 0.93 - ETA: 0s - loss: 0.1974 - accuracy: 0.93 - ETA: 0s - loss: 0.1979 - accuracy: 0.93 - ETA: 0s - loss: 0.1976 - accuracy: 0.93 - ETA: 0s - loss: 0.1980 - accuracy: 0.93 - ETA: 0s - loss: 0.1975 - accuracy: 0.93 - 6s 192ms/step - loss: 0.1983 - accuracy: 0.9299 - val_loss: 0.3022 - val_accuracy: 0.8735\n",
      "Epoch 18/20\n",
      "30/30 [==============================] - ETA: 16s - loss: 0.1841 - accuracy: 0.929 - ETA: 8s - loss: 0.1888 - accuracy: 0.928 - ETA: 6s - loss: 0.1854 - accuracy: 0.92 - ETA: 4s - loss: 0.1823 - accuracy: 0.92 - ETA: 4s - loss: 0.1809 - accuracy: 0.93 - ETA: 3s - loss: 0.1862 - accuracy: 0.93 - ETA: 3s - loss: 0.1833 - accuracy: 0.93 - ETA: 2s - loss: 0.1810 - accuracy: 0.93 - ETA: 2s - loss: 0.1829 - accuracy: 0.93 - ETA: 2s - loss: 0.1843 - accuracy: 0.93 - ETA: 1s - loss: 0.1868 - accuracy: 0.93 - ETA: 1s - loss: 0.1872 - accuracy: 0.93 - ETA: 1s - loss: 0.1887 - accuracy: 0.93 - ETA: 1s - loss: 0.1888 - accuracy: 0.93 - ETA: 0s - loss: 0.1874 - accuracy: 0.93 - ETA: 0s - loss: 0.1891 - accuracy: 0.93 - ETA: 0s - loss: 0.1892 - accuracy: 0.93 - ETA: 0s - loss: 0.1896 - accuracy: 0.93 - ETA: 0s - loss: 0.1886 - accuracy: 0.93 - 6s 201ms/step - loss: 0.1875 - accuracy: 0.9359 - val_loss: 0.2992 - val_accuracy: 0.8749\n",
      "Epoch 19/20\n",
      "30/30 [==============================] - ETA: 15s - loss: 0.2018 - accuracy: 0.919 - ETA: 8s - loss: 0.2003 - accuracy: 0.925 - ETA: 6s - loss: 0.1915 - accuracy: 0.93 - ETA: 4s - loss: 0.1827 - accuracy: 0.93 - ETA: 3s - loss: 0.1839 - accuracy: 0.93 - ETA: 3s - loss: 0.1816 - accuracy: 0.93 - ETA: 2s - loss: 0.1752 - accuracy: 0.93 - ETA: 2s - loss: 0.1743 - accuracy: 0.93 - ETA: 2s - loss: 0.1738 - accuracy: 0.93 - ETA: 1s - loss: 0.1771 - accuracy: 0.93 - ETA: 1s - loss: 0.1772 - accuracy: 0.93 - ETA: 1s - loss: 0.1770 - accuracy: 0.93 - ETA: 1s - loss: 0.1758 - accuracy: 0.94 - ETA: 0s - loss: 0.1745 - accuracy: 0.94 - ETA: 0s - loss: 0.1749 - accuracy: 0.94 - ETA: 0s - loss: 0.1751 - accuracy: 0.94 - ETA: 0s - loss: 0.1743 - accuracy: 0.94 - ETA: 0s - loss: 0.1734 - accuracy: 0.94 - ETA: 0s - loss: 0.1722 - accuracy: 0.94 - 6s 189ms/step - loss: 0.1721 - accuracy: 0.9431 - val_loss: 0.2980 - val_accuracy: 0.8753\n",
      "Epoch 20/20\n",
      "30/30 [==============================] - ETA: 15s - loss: 0.1646 - accuracy: 0.951 - ETA: 8s - loss: 0.1553 - accuracy: 0.954 - ETA: 5s - loss: 0.1639 - accuracy: 0.94 - ETA: 4s - loss: 0.1639 - accuracy: 0.94 - ETA: 3s - loss: 0.1643 - accuracy: 0.94 - ETA: 3s - loss: 0.1645 - accuracy: 0.94 - ETA: 2s - loss: 0.1637 - accuracy: 0.94 - ETA: 2s - loss: 0.1644 - accuracy: 0.94 - ETA: 2s - loss: 0.1668 - accuracy: 0.94 - ETA: 1s - loss: 0.1643 - accuracy: 0.94 - ETA: 1s - loss: 0.1649 - accuracy: 0.94 - ETA: 1s - loss: 0.1655 - accuracy: 0.94 - ETA: 1s - loss: 0.1638 - accuracy: 0.94 - ETA: 0s - loss: 0.1621 - accuracy: 0.94 - ETA: 0s - loss: 0.1612 - accuracy: 0.94 - ETA: 0s - loss: 0.1608 - accuracy: 0.94 - ETA: 0s - loss: 0.1607 - accuracy: 0.94 - ETA: 0s - loss: 0.1613 - accuracy: 0.94 - ETA: 0s - loss: 0.1596 - accuracy: 0.94 - 6s 186ms/step - loss: 0.1593 - accuracy: 0.9478 - val_loss: 0.2978 - val_accuracy: 0.8761\n"
     ]
    }
   ],
   "source": [
    "history = model.fit(train_data.shuffle(10000).batch(512),\n",
    "                   epochs=20,\n",
    "                   validation_data=validation_data.batch(512),\n",
    "                   verbose=1)"
   ]
  },
  {
   "cell_type": "code",
   "execution_count": 13,
   "metadata": {},
   "outputs": [
    {
     "name": "stdout",
     "output_type": "stream",
     "text": [
      "49/49 - 4s - loss: 0.3178 - accuracy: 0.8667\n",
      "loss: 0.318\n",
      "accuracy: 0.867\n"
     ]
    }
   ],
   "source": [
    "results = model.evaluate(test_data.batch(512), verbose=2)\n",
    "\n",
    "for name, value in zip(model.metrics_names, results):\n",
    "    print(\"%s: %.3f\" % (name, value))"
   ]
  },
  {
   "cell_type": "code",
   "execution_count": null,
   "metadata": {},
   "outputs": [],
   "source": []
  }
 ],
 "metadata": {
  "kernelspec": {
   "display_name": "Python 3",
   "language": "python",
   "name": "python3"
  },
  "language_info": {
   "codemirror_mode": {
    "name": "ipython",
    "version": 3
   },
   "file_extension": ".py",
   "mimetype": "text/x-python",
   "name": "python",
   "nbconvert_exporter": "python",
   "pygments_lexer": "ipython3",
   "version": "3.6.4"
  }
 },
 "nbformat": 4,
 "nbformat_minor": 2
}
